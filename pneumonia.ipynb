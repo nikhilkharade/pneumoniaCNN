{
  "nbformat": 4,
  "nbformat_minor": 0,
  "metadata": {
    "colab": {
      "name": "pneumonia.ipynb",
      "provenance": []
    },
    "kernelspec": {
      "name": "python3",
      "display_name": "Python 3"
    }
  },
  "cells": [
    {
      "cell_type": "code",
      "metadata": {
        "id": "S5JyaQ96wMPJ",
        "colab_type": "code",
        "colab": {}
      },
      "source": [
        "from google.colab import drive\n",
        "drive.mount('/content/gdrive')"
      ],
      "execution_count": 0,
      "outputs": []
    },
    {
      "cell_type": "markdown",
      "metadata": {
        "id": "BVbQ69Sf4P9P",
        "colab_type": "text"
      },
      "source": [
        "I came accross this dataset while working on a Corona X-Ray dataset. Here is the link to the Corona X-ray dataset [dataset link](https://github.com/ieee8023/covid-chestxray-dataset). As this dataset has less images already I needed some normal X-ray images so I used the normal directory images in the Corona project. "
      ]
    },
    {
      "cell_type": "markdown",
      "metadata": {
        "id": "ZCR_IJfQ5EXR",
        "colab_type": "text"
      },
      "source": [
        "Now the link to is  [here](https://www.kaggle.com/paultimothymooney/chest-xray-pneumonia). "
      ]
    },
    {
      "cell_type": "markdown",
      "metadata": {
        "id": "UlPtVaEQ5YRN",
        "colab_type": "text"
      },
      "source": [
        "I am using Google Colab to run this so I have uploaded the dataset on Google Drive. "
      ]
    },
    {
      "cell_type": "code",
      "metadata": {
        "id": "h-aIwBPJ5ebc",
        "colab_type": "code",
        "colab": {}
      },
      "source": [
        "\n",
        "\n",
        "import pandas as pd\n",
        "import numpy as np\n",
        "import matplotlib.pyplot as plt\n",
        "import seaborn as sns\n",
        "import cv2\n",
        "import os\n",
        "import random\n",
        "from keras.models import Sequential\n",
        "from keras.layers import Conv2D,Dense,Flatten,Dropout,MaxPooling2D\n",
        "from keras.preprocessing.image import ImageDataGenerator\n",
        "from keras.callbacks import ReduceLROnPlateau\n",
        "\n",
        "%matplotlib inline\n",
        "\n"
      ],
      "execution_count": 0,
      "outputs": []
    },
    {
      "cell_type": "code",
      "metadata": {
        "id": "HiUQkKNE5pze",
        "colab_type": "code",
        "colab": {}
      },
      "source": [
        "total_images_train_normal = os.listdir('/content/gdrive/My Drive/chest_xray/test/NORMAL')\n",
        "total_images_train_pneumonia = os.listdir('/content/gdrive/My Drive/chest_xray/test/PNEUMONIA/')"
      ],
      "execution_count": 0,
      "outputs": []
    },
    {
      "cell_type": "markdown",
      "metadata": {
        "id": "Y6ptwpNk6BZr",
        "colab_type": "text"
      },
      "source": [
        "Just imported the essential packages and passed the dataset path upto now."
      ]
    },
    {
      "cell_type": "code",
      "metadata": {
        "id": "bAoXIGoy6H4x",
        "colab_type": "code",
        "colab": {}
      },
      "source": [
        "sample_normal = random.sample(total_images_train_normal,6)\n",
        "f,ax = plt.subplots(2,3,figsize=(15,9))\n",
        "\n",
        "for i in range(0,6):\n",
        "    im = cv2.imread('/content/gdrive/My Drive/chest_xray/test/NORMAL/'+sample_normal[i])\n",
        "    ax[i//3,i%3].imshow(im)\n",
        "    ax[i//3,i%3].axis('off')\n",
        "f.suptitle('Normal Lungs')\n",
        "plt.show()"
      ],
      "execution_count": 0,
      "outputs": []
    },
    {
      "cell_type": "code",
      "metadata": {
        "id": "7G4Tmbfh85co",
        "colab_type": "code",
        "colab": {}
      },
      "source": [
        "sample_pneumonia = random.sample(total_images_train_pneumonia,6)\n",
        "f,ax = plt.subplots(2,3,figsize=(15,9))\n",
        "\n",
        "for i in range(0,6):\n",
        "    im = cv2.imread('/content/gdrive/My Drive/chest_xray/test/PNEUMONIA/'+sample_pneumonia[i])\n",
        "    ax[i//3,i%3].imshow(im)\n",
        "    ax[i//3,i%3].axis('off')\n",
        "f.suptitle('Pneumonia Lungs')\n",
        "plt.show()"
      ],
      "execution_count": 0,
      "outputs": []
    },
    {
      "cell_type": "markdown",
      "metadata": {
        "id": "tNSvYT009QbY",
        "colab_type": "text"
      },
      "source": [
        "These are The **Normal** and **Pneumonia** X-Ray Images. "
      ]
    },
    {
      "cell_type": "code",
      "metadata": {
        "id": "BmQZ0kI09aWg",
        "colab_type": "code",
        "colab": {}
      },
      "source": [
        "sns.set_style('dark')\n",
        "sns.barplot(x=['Normal','Pneumonia'],y=[len(total_images_train_normal),len(total_images_train_pneumonia)])"
      ],
      "execution_count": 0,
      "outputs": []
    },
    {
      "cell_type": "markdown",
      "metadata": {
        "id": "OPeJpIsi9zTI",
        "colab_type": "text"
      },
      "source": [
        "The training data is mildly in favor of the Pneumonia side with almost 100 more images for Pneumonia. To think about it , will evenly distributing the images improve accuracy of model? I think **NO**. As for normal images it was pretty much the same for each image. There should be more of a variety for Pneumonia cases. "
      ]
    },
    {
      "cell_type": "markdown",
      "metadata": {
        "id": "ezycdvIbBUZK",
        "colab_type": "text"
      },
      "source": [
        "That being said 350 images for training set is less regardless. Let's perform data Augmentatation of the data."
      ]
    },
    {
      "cell_type": "code",
      "metadata": {
        "id": "B3xw4tLoBefu",
        "colab_type": "code",
        "colab": {}
      },
      "source": [
        "train_datagen = ImageDataGenerator(rescale=1./255,\n",
        "                                   rotation_range=15,\n",
        "                                   shear_range=0.2,\n",
        "                                   zoom_range=0.2\n",
        "                                   )\n",
        "\n",
        "test_datagen = ImageDataGenerator(rescale=1./255)"
      ],
      "execution_count": 0,
      "outputs": []
    },
    {
      "cell_type": "code",
      "metadata": {
        "id": "TcYTVLzVBlah",
        "colab_type": "code",
        "colab": {
          "base_uri": "https://localhost:8080/",
          "height": 36
        },
        "outputId": "cd7061ee-0b5a-4ef5-d37e-7664e8ad8b31"
      },
      "source": [
        "training_set = train_datagen.flow_from_directory('/content/gdrive/My Drive/chest_xray/train',\n",
        "                                                 target_size=(image_width, image_height),\n",
        "                                                 batch_size=batch_size,\n",
        "                                                 class_mode='binary')\n",
        "\n"
      ],
      "execution_count": 37,
      "outputs": [
        {
          "output_type": "stream",
          "text": [
            "Found 5224 images belonging to 2 classes.\n"
          ],
          "name": "stdout"
        }
      ]
    },
    {
      "cell_type": "code",
      "metadata": {
        "id": "rbKjzshCGasc",
        "colab_type": "code",
        "colab": {
          "base_uri": "https://localhost:8080/",
          "height": 54
        },
        "outputId": "f4849886-e644-43ab-ae28-d8e812f852cb"
      },
      "source": [
        "test_set = test_datagen.flow_from_directory('/content/gdrive/My Drive/chest_xray/test',\n",
        "                                            target_size=(image_width, image_height),\n",
        "                                            batch_size=batch_size,\n",
        "                                            class_mode='binary')\n",
        "\n",
        "\n",
        "val_set = test_datagen.flow_from_directory('/content/gdrive/My Drive/chest_xray/val',\n",
        "                                            target_size=(image_width, image_height),\n",
        "                                            batch_size=1,\n",
        "                                            shuffle=False,\n",
        "                                            class_mode='binary')\n",
        "\n"
      ],
      "execution_count": 38,
      "outputs": [
        {
          "output_type": "stream",
          "text": [
            "Found 624 images belonging to 2 classes.\n",
            "Found 16 images belonging to 2 classes.\n"
          ],
          "name": "stdout"
        }
      ]
    },
    {
      "cell_type": "code",
      "metadata": {
        "id": "47wLKQyJGidt",
        "colab_type": "code",
        "colab": {
          "base_uri": "https://localhost:8080/",
          "height": 36
        },
        "outputId": "8d7c7ff7-ec28-4f57-a609-0adb8c2deceb"
      },
      "source": [
        "print(len(test_set))"
      ],
      "execution_count": 40,
      "outputs": [
        {
          "output_type": "stream",
          "text": [
            "78\n"
          ],
          "name": "stdout"
        }
      ]
    },
    {
      "cell_type": "code",
      "metadata": {
        "id": "UwA8Yh52-MmR",
        "colab_type": "code",
        "colab": {}
      },
      "source": [
        "image_height = 150\n",
        "image_width = 150\n",
        "batch_size = 8\n",
        "no_of_epochs  = 15"
      ],
      "execution_count": 0,
      "outputs": []
    },
    {
      "cell_type": "markdown",
      "metadata": {
        "id": "lTZQmohO-8Ff",
        "colab_type": "text"
      },
      "source": [
        "Declared the various variables that we are going to need over for the next steps. "
      ]
    },
    {
      "cell_type": "code",
      "metadata": {
        "id": "nh72s1Nm-61c",
        "colab_type": "code",
        "colab": {}
      },
      "source": [
        "\n",
        "\n",
        "model = Sequential()\n",
        "model.add(Conv2D(32,(3,3),input_shape=(image_height,image_width,3),activation='relu'))\n",
        "model.add(Conv2D(32,(3,3),activation='relu'))\n",
        "model.add(MaxPooling2D(pool_size=(2,2)))\n",
        "model.add(Dropout(0.2))\n",
        "model.add(Conv2D(64,(3,3),activation='relu'))\n",
        "model.add(Conv2D(64,(3,3),activation='relu'))\n",
        "model.add(MaxPooling2D(pool_size=(2,2)))\n",
        "model.add(Dropout(0.2))\n",
        "model.add(Conv2D(128,(3,3),activation='relu'))\n",
        "model.add(Conv2D(128,(3,3),activation='relu'))\n",
        "model.add(MaxPooling2D(pool_size=(2,2)))\n",
        "model.add(Dropout(0.2))\n",
        "model.add(Flatten())\n",
        "model.add(Dense(units=128,activation='relu'))\n",
        "model.add(Dropout(0.2))\n",
        "model.add(Dense(units=1,activation='sigmoid'))\n",
        "model.compile(optimizer='adam', loss='binary_crossentropy', metrics=['accuracy'])\n",
        "\n"
      ],
      "execution_count": 0,
      "outputs": []
    },
    {
      "cell_type": "code",
      "metadata": {
        "id": "QsxfNsDTAw9h",
        "colab_type": "code",
        "colab": {
          "base_uri": "https://localhost:8080/",
          "height": 766
        },
        "outputId": "1db1fc26-f608-4bae-f51f-153f807f5a5f"
      },
      "source": [
        "model.summary()"
      ],
      "execution_count": 45,
      "outputs": [
        {
          "output_type": "stream",
          "text": [
            "Model: \"sequential_3\"\n",
            "_________________________________________________________________\n",
            "Layer (type)                 Output Shape              Param #   \n",
            "=================================================================\n",
            "conv2d_13 (Conv2D)           (None, 148, 148, 32)      896       \n",
            "_________________________________________________________________\n",
            "conv2d_14 (Conv2D)           (None, 146, 146, 32)      9248      \n",
            "_________________________________________________________________\n",
            "max_pooling2d_7 (MaxPooling2 (None, 73, 73, 32)        0         \n",
            "_________________________________________________________________\n",
            "dropout_9 (Dropout)          (None, 73, 73, 32)        0         \n",
            "_________________________________________________________________\n",
            "conv2d_15 (Conv2D)           (None, 71, 71, 64)        18496     \n",
            "_________________________________________________________________\n",
            "conv2d_16 (Conv2D)           (None, 69, 69, 64)        36928     \n",
            "_________________________________________________________________\n",
            "max_pooling2d_8 (MaxPooling2 (None, 34, 34, 64)        0         \n",
            "_________________________________________________________________\n",
            "dropout_10 (Dropout)         (None, 34, 34, 64)        0         \n",
            "_________________________________________________________________\n",
            "conv2d_17 (Conv2D)           (None, 32, 32, 128)       73856     \n",
            "_________________________________________________________________\n",
            "conv2d_18 (Conv2D)           (None, 30, 30, 128)       147584    \n",
            "_________________________________________________________________\n",
            "max_pooling2d_9 (MaxPooling2 (None, 15, 15, 128)       0         \n",
            "_________________________________________________________________\n",
            "dropout_11 (Dropout)         (None, 15, 15, 128)       0         \n",
            "_________________________________________________________________\n",
            "flatten_3 (Flatten)          (None, 28800)             0         \n",
            "_________________________________________________________________\n",
            "dense_5 (Dense)              (None, 128)               3686528   \n",
            "_________________________________________________________________\n",
            "dropout_12 (Dropout)         (None, 128)               0         \n",
            "_________________________________________________________________\n",
            "dense_6 (Dense)              (None, 1)                 129       \n",
            "=================================================================\n",
            "Total params: 3,973,665\n",
            "Trainable params: 3,973,665\n",
            "Non-trainable params: 0\n",
            "_________________________________________________________________\n"
          ],
          "name": "stdout"
        }
      ]
    },
    {
      "cell_type": "code",
      "metadata": {
        "id": "9vCMirA81meo",
        "colab_type": "code",
        "colab": {}
      },
      "source": [
        ""
      ],
      "execution_count": 0,
      "outputs": []
    },
    {
      "cell_type": "markdown",
      "metadata": {
        "id": "OZZvx2jiCkqE",
        "colab_type": "text"
      },
      "source": [
        "To make sure that the model keeps on learning lets add a callback function."
      ]
    },
    {
      "cell_type": "code",
      "metadata": {
        "id": "5RicpASsCrTu",
        "colab_type": "code",
        "colab": {}
      },
      "source": [
        "reduce_learning_rate = ReduceLROnPlateau(monitor='loss',\n",
        "                                         factor=0.1,\n",
        "                                         patience=2,\n",
        "                                         cooldown=2,\n",
        "                                         min_lr=0.00001,\n",
        "                                         verbose=1)\n",
        "\n",
        "callbacks = [reduce_learning_rate]"
      ],
      "execution_count": 0,
      "outputs": []
    },
    {
      "cell_type": "markdown",
      "metadata": {
        "id": "h_O-Z3GFE0ea",
        "colab_type": "text"
      },
      "source": [
        "print(len(training_set))\n"
      ]
    },
    {
      "cell_type": "code",
      "metadata": {
        "id": "h6Hh0fiNCwMA",
        "colab_type": "code",
        "colab": {
          "base_uri": "https://localhost:8080/",
          "height": 636
        },
        "outputId": "3f324f43-c80e-45b2-f2cf-3bb3d8d6cd0e"
      },
      "source": [
        "history = model.fit_generator(training_set,\n",
        "                    steps_per_epoch=5216//batch_size,\n",
        "                    epochs=no_of_epochs,\n",
        "                    validation_data=test_set,\n",
        "                    validation_steps=624//batch_size,\n",
        "                    callbacks=callbacks\n",
        "                   )"
      ],
      "execution_count": 41,
      "outputs": [
        {
          "output_type": "stream",
          "text": [
            "Epoch 1/15\n",
            "652/652 [==============================] - 829s 1s/step - loss: 0.4761 - acc: 0.7860 - val_loss: 0.6090 - val_acc: 0.7628\n",
            "Epoch 2/15\n",
            "652/652 [==============================] - 777s 1s/step - loss: 0.2808 - acc: 0.8811 - val_loss: 0.3520 - val_acc: 0.8413\n",
            "Epoch 3/15\n",
            "652/652 [==============================] - 775s 1s/step - loss: 0.2462 - acc: 0.8980 - val_loss: 0.4254 - val_acc: 0.8061\n",
            "Epoch 4/15\n",
            "652/652 [==============================] - 782s 1s/step - loss: 0.2110 - acc: 0.9199 - val_loss: 0.3267 - val_acc: 0.8606\n",
            "Epoch 5/15\n",
            "652/652 [==============================] - 781s 1s/step - loss: 0.1937 - acc: 0.9225 - val_loss: 0.4644 - val_acc: 0.8285\n",
            "Epoch 6/15\n",
            "652/652 [==============================] - 779s 1s/step - loss: 0.1861 - acc: 0.9287 - val_loss: 0.3813 - val_acc: 0.8349\n",
            "Epoch 7/15\n",
            "652/652 [==============================] - 779s 1s/step - loss: 0.1692 - acc: 0.9387 - val_loss: 0.4365 - val_acc: 0.8974\n",
            "Epoch 8/15\n",
            "652/652 [==============================] - 782s 1s/step - loss: 0.1610 - acc: 0.9417 - val_loss: 0.3097 - val_acc: 0.8846\n",
            "Epoch 9/15\n",
            "652/652 [==============================] - 790s 1s/step - loss: 0.1665 - acc: 0.9356 - val_loss: 0.4047 - val_acc: 0.8510\n",
            "Epoch 10/15\n",
            "652/652 [==============================] - 789s 1s/step - loss: 0.1551 - acc: 0.9413 - val_loss: 0.2744 - val_acc: 0.8782\n",
            "Epoch 11/15\n",
            "652/652 [==============================] - 783s 1s/step - loss: 0.1582 - acc: 0.9402 - val_loss: 0.3101 - val_acc: 0.8990\n",
            "Epoch 12/15\n",
            "652/652 [==============================] - 785s 1s/step - loss: 0.1418 - acc: 0.9459 - val_loss: 0.2758 - val_acc: 0.9279\n",
            "Epoch 13/15\n",
            "652/652 [==============================] - 786s 1s/step - loss: 0.1368 - acc: 0.9482 - val_loss: 0.3126 - val_acc: 0.9022\n",
            "Epoch 14/15\n",
            "652/652 [==============================] - 791s 1s/step - loss: 0.1457 - acc: 0.9517 - val_loss: 0.2375 - val_acc: 0.9022\n",
            "Epoch 15/15\n",
            "652/652 [==============================] - 787s 1s/step - loss: 0.1433 - acc: 0.9480 - val_loss: 0.2356 - val_acc: 0.9087\n",
            "\n",
            "Epoch 00015: ReduceLROnPlateau reducing learning rate to 0.00010000000474974513.\n"
          ],
          "name": "stdout"
        }
      ]
    },
    {
      "cell_type": "code",
      "metadata": {
        "id": "eHC96xBA0PBh",
        "colab_type": "code",
        "colab": {
          "base_uri": "https://localhost:8080/",
          "height": 512
        },
        "outputId": "6f276e30-419d-43d7-ba2e-3d4279326d72"
      },
      "source": [
        "acc = history.history['acc']\n",
        "val_acc = history.history['val_acc']\n",
        "loss = history.history['loss']\n",
        "val_loss = history.history['val_loss']\n",
        "\n",
        "epochs = range(1, len(acc) + 1)\n",
        "fig = plt.figure(figsize=(16,9))\n",
        "\n",
        "plt.subplot(1, 2, 1)\n",
        "plt.plot(epochs, loss, 'bo', label='Training loss')\n",
        "plt.plot(epochs, val_loss, 'b', label='Validation loss')\n",
        "plt.title('Training and validation loss')\n",
        "plt.legend()\n",
        "\n",
        "plt.subplot(1, 2, 2)\n",
        "plt.plot(epochs, acc, 'bo', label='Training acc')\n",
        "plt.plot(epochs, val_acc, 'b', label='Validation acc')\n",
        "plt.title('Training and validation accuracy')\n",
        "plt.legend()"
      ],
      "execution_count": 42,
      "outputs": [
        {
          "output_type": "execute_result",
          "data": {
            "text/plain": [
              "<matplotlib.legend.Legend at 0x7fbbb06b86d8>"
            ]
          },
          "metadata": {
            "tags": []
          },
          "execution_count": 42
        },
        {
          "output_type": "display_data",
          "data": {
            "image/png": "[encoded data removed]",
            "text/plain": [
              "<Figure size 1152x648 with 2 Axes>"
            ]
          },
          "metadata": {
            "tags": []
          }
        }
      ]
    },
    {
      "cell_type": "code",
      "metadata": {
        "id": "tLRrRDHE0eOv",
        "colab_type": "code",
        "colab": {}
      },
      "source": [
        "model.save(\"pneumonia95%.h5\")"
      ],
      "execution_count": 0,
      "outputs": []
    }
  ]
}